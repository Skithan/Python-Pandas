{
 "cells": [
  {
   "cell_type": "markdown",
   "id": "63fa3ade",
   "metadata": {},
   "source": [
    "# Hands-on 4\n",
    "\n",
    "### CS2545 - Data Science ###\n",
    "### Winter, 2025 ###\n",
    "### UNB, Fredericton ###\n",
    "\n",
    "Please complete the following tasks per instructions provided. Please complete the following and submit this notebook (rename filename: handson4-**firstname**-**lastname**.ipynb) to D2L by 11:30 am, March 14. \n",
    "</br>\n",
    "</br>\n",
    "</br>\n"
   ]
  },
  {
   "cell_type": "markdown",
   "id": "d7457277",
   "metadata": {},
   "source": [
    "**Q1.** Download the file *oscar_winners.json* from Handson 2, which contains information about Orcar winners for the best picture award. Load this file into a pandas dataframe. Then answer the following:\n",
    "\n",
    "**Q1.1** Show the number of movies in each genre. Note that a movie may belong to multiple  genres.\n",
    "\n",
    "**Q1.2** Then plot a bar chart showing the number of movies for each genre. The X-axis will represent the genres and Y-axis will show the number of movies.\n"
   ]
  },
  {
   "cell_type": "code",
   "execution_count": 32,
   "id": "d3f5999f",
   "metadata": {},
   "outputs": [
    {
     "data": {
      "image/png": "[encoded data removed]",
      "text/plain": [
       "<Figure size 432x288 with 1 Axes>"
      ]
     },
     "metadata": {
      "needs_background": "light"
     },
     "output_type": "display_data"
    }
   ],
   "source": [
    "import pandas as pd\n",
    "import matplotlib.pyplot as plt\n",
    "%matplotlib inline\n",
    "\n",
    "# write your code below\n",
    "\n",
    "df1 = pd.read_json(\"oscar_winners.json\")\n",
    "\n",
    "filtered_df1 = df1['genre'].str.split(', ')\n",
    "\n",
    "filtered_df2 = filtered_df1.explode()\n",
    "\n",
    "filtered_df3 = filtered_df2.value_counts()\n",
    "\n",
    "chart = filtered_df3.plot.bar(rot = 55)\n",
    "\n",
    "plt.title(\"Oscar Winners\")\n",
    "plt.xlabel(\"Genre\")\n",
    "plt.ylabel(\"Times Represented\")\n",
    "plt.show()\n",
    "\n",
    "\n",
    "\n",
    "\n"
   ]
  },
  {
   "cell_type": "markdown",
   "id": "dce4fcc3",
   "metadata": {},
   "source": [
    "**Q2.** Download *users.csv*  from D2L. The entries in *users*  represent movie reviewers. Load this file into a dataframe by executing the code provided. \n",
    "\n",
    "Then, add a column to the dataframe called *agegroup*, where the value of *agegroup* is a label based on the following table. Using this table, you can create relevant intervals (i.e. left-open and right-closed intervals).\n",
    "\n",
    "Infant: 0-1 <br>\n",
    "Toddler: 1-3 <br>\n",
    "Children: 3-12 <br>\n",
    "Teen: 12-19  <br>\n",
    "Young-adult: 19-25 <br> \n",
    "Adult: 25 - 65 <br>\n",
    "Senior: 65 - 110 <br>\n",
    "\n",
    "So, someone aged 13 will be labeled 'Teen' .\n"
   ]
  },
  {
   "cell_type": "code",
   "execution_count": null,
   "id": "e5687ed2",
   "metadata": {},
   "outputs": [],
   "source": [
    "import pandas as pd\n",
    "import numpy as np\n",
    "\n",
    "u_cols = ['user_id', 'age', 'sex', 'occupation', 'zip_code']\n",
    "users = pd.read_csv('users.csv', sep='|', names=u_cols)\n",
    "\n",
    "\n",
    "# write your code below\n",
    "users['agegroup'] = users['age'].apply(lambda x: 'Senior' if x > 65 else 'Adult' if x > 25 else 'Young-adult' if x > 19 else 'Teen' if x > 12 else 'Children' if x > 3 else 'Toddler' if x > 1 else 'Infant')\n",
    "users\n"
   ]
  },
  {
   "cell_type": "markdown",
   "id": "6e7deb68-16d6-4ea1-a169-8d0b02ce696a",
   "metadata": {},
   "source": [
    "**Q3.**  Download the *ratings.csv*  from D2L.  The entries in *ratings* represent the movie ratings given by these reviewers. Load this file into a dataframe by executing the code provided. \n",
    "\n",
    "Also, you will need the *users* dataframe with column *agegroup* from  Q2. \n",
    "\n",
    "Join these two dataframes to create a new dataframe.\n"
   ]
  },
  {
   "cell_type": "code",
   "execution_count": 1,
   "id": "5e2c3add-187e-46d1-b519-15fa5759ffb3",
   "metadata": {},
   "outputs": [
    {
     "ename": "NameError",
     "evalue": "name 'pd' is not defined",
     "output_type": "error",
     "traceback": [
      "\u001b[0;31m---------------------------------------------------------------------------\u001b[0m",
      "\u001b[0;31mNameError\u001b[0m                                 Traceback (most recent call last)",
      "\u001b[0;32m<ipython-input-1-e6ed36af2d13>\u001b[0m in \u001b[0;36m<module>\u001b[0;34m\u001b[0m\n\u001b[1;32m      1\u001b[0m \u001b[0mr_cols\u001b[0m \u001b[0;34m=\u001b[0m \u001b[0;34m[\u001b[0m\u001b[0;34m'userId'\u001b[0m\u001b[0;34m,\u001b[0m \u001b[0;34m'movieId'\u001b[0m\u001b[0;34m,\u001b[0m \u001b[0;34m'userRating'\u001b[0m\u001b[0;34m,\u001b[0m \u001b[0;34m'timestamp'\u001b[0m\u001b[0;34m]\u001b[0m\u001b[0;34m\u001b[0m\u001b[0;34m\u001b[0m\u001b[0m\n\u001b[0;32m----> 2\u001b[0;31m \u001b[0mratings\u001b[0m \u001b[0;34m=\u001b[0m \u001b[0mpd\u001b[0m\u001b[0;34m.\u001b[0m\u001b[0mread_csv\u001b[0m\u001b[0;34m(\u001b[0m\u001b[0;34m'ratings.csv'\u001b[0m\u001b[0;34m,\u001b[0m \u001b[0msep\u001b[0m\u001b[0;34m=\u001b[0m\u001b[0;34m','\u001b[0m\u001b[0;34m,\u001b[0m \u001b[0mnames\u001b[0m\u001b[0;34m=\u001b[0m\u001b[0mr_cols\u001b[0m\u001b[0;34m)\u001b[0m\u001b[0;34m\u001b[0m\u001b[0;34m\u001b[0m\u001b[0m\n\u001b[0m\u001b[1;32m      3\u001b[0m \u001b[0;34m\u001b[0m\u001b[0m\n\u001b[1;32m      4\u001b[0m \u001b[0;34m\u001b[0m\u001b[0m\n\u001b[1;32m      5\u001b[0m \u001b[0;31m# write your code below\u001b[0m\u001b[0;34m\u001b[0m\u001b[0;34m\u001b[0m\u001b[0;34m\u001b[0m\u001b[0m\n",
      "\u001b[0;31mNameError\u001b[0m: name 'pd' is not defined"
     ]
    }
   ],
   "source": [
    "import pandas as pd\n",
    "import numpy as np\n",
    "\n",
    "r_cols = ['userId', 'movieId', 'userRating', 'timestamp']\n",
    "ratings = pd.read_csv('ratings.csv', sep=',', names=r_cols)\n",
    "\n",
    "\n",
    "# write your code below\n",
    "df3=pd.merge(ratings,users, on='userID')\n",
    "\n",
    "df3"
   ]
  },
  {
   "cell_type": "markdown",
   "id": "f0b1bd8c-f0dc-4cd9-8af1-c700fac4e428",
   "metadata": {},
   "source": [
    "**Q4.**  Using the dataframe in Q3, show the average movie rating for each agegroup. Remove records with NaN fields.\n",
    "\n",
    "Then plot a bar chart showing the average movie rating on Y-axis, for each agegroup shown on the X-axis.\n"
   ]
  },
  {
   "cell_type": "code",
   "execution_count": 33,
   "id": "dca1aedb-8f9a-4310-abe3-e0df4b9b4349",
   "metadata": {},
   "outputs": [],
   "source": [
    "# write your code below\n",
    "\n",
    "\n"
   ]
  }
 ],
 "metadata": {
  "kernelspec": {
   "display_name": "Python 3",
   "language": "python",
   "name": "python3"
  },
  "language_info": {
   "codemirror_mode": {
    "name": "ipython",
    "version": 3
   },
   "file_extension": ".py",
   "mimetype": "text/x-python",
   "name": "python",
   "nbconvert_exporter": "python",
   "pygments_lexer": "ipython3",
   "version": "3.8.8"
  }
 },
 "nbformat": 4,
 "nbformat_minor": 5
}
