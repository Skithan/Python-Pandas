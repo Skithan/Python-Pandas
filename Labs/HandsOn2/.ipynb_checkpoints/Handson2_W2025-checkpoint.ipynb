{
 "cells": [
  {
   "cell_type": "markdown",
   "id": "63fa3ade",
   "metadata": {},
   "source": [
    "# Hands-on 2\n",
    "\n",
    "### CS2545 - Data Science ###\n",
    "### Winter, 2025 ###\n",
    "### UNB, Fredericton ###\n",
    "\n",
    "Please complete the following tasks per instructions provided. Please complete the following and submit this notebook (rename filename: handson2-**firstname**-**lastname**.ipynb) to D2L by 11:30 am, February 10. \n",
    "</br>\n",
    "</br>\n",
    "</br>\n"
   ]
  },
  {
   "cell_type": "markdown",
   "id": "d7457277",
   "metadata": {},
   "source": [
    "**Q1.** The file *oscar_winners.json* contains information about Orcar winners for the best picture award. Write a Python program to load data from this file and answer the following queries.\n",
    "\n",
    "**Q1.1** Show the title of the movies and year awarded for the movies that were awarded Oscar since (including) 2000.\n",
    "\n",
    "**Q1.2** Show the title of the movies and year awarded for the movies that are Comedy movies.\n",
    "\n",
    "**Q1.3** Show the title of the movie and its duration for the movie that has the longest duration.\n"
   ]
  },
  {
   "cell_type": "code",
   "execution_count": 11,
   "id": "d3f5999f",
   "metadata": {
    "scrolled": true
   },
   "outputs": [
    {
     "name": "stdout",
     "output_type": "stream",
     "text": [
      "Movies since 2000:\n",
      "\n",
      "Parasite 2019\n",
      "Green Book 2018\n",
      "The Shape of Water 2017\n",
      "Moonlight 2016\n",
      "Spotlight 2015\n",
      "Birdman or (The Unexpected Virtue of Ignorance) 2014\n",
      "12 Years a Slave 2013\n",
      "Argo 2012\n",
      "The Artist 2011\n",
      "The King's Speech 2010\n",
      "Slumdog Millionaire 2009\n",
      "The Hurt Locker 2008\n",
      "No Country for Old Men 2007\n",
      "The Departed 2006\n",
      "Million Dollar Baby 2005\n",
      "Crash 2004\n",
      "The Lord of the Rings: The Return of the King 2003\n",
      "Chicago 2002\n",
      "A Beautiful Mind 2001\n",
      "Gladiator 2000\n",
      "\n",
      "\n",
      "Comedies:\n",
      "\n",
      "Parasite 2019\n",
      "Green Book 2018\n",
      "Birdman or (The Unexpected Virtue of Ignorance) 2014\n",
      "The Artist 2011\n",
      "Chicago 2002\n",
      "Shakespeare in Love 1998\n",
      "Terms of Endearment 1983\n",
      "Annie Hall 1977\n",
      "The Sting 1973\n",
      "Tom Jones 1963\n",
      "The Apartment 1960\n",
      "Gigi 1958\n",
      "Around the World in 80 Days 1956\n",
      "Going My Way 1944\n",
      "You Can't Take It with You 1938\n",
      "It Happened One Night 1934\n",
      "\n",
      "\n",
      "Longest running movie:\n",
      "\n",
      "Gone with the Wind 238 min\n"
     ]
    }
   ],
   "source": [
    "import json\n",
    "\n",
    "# write your code below\n",
    "# Load the data from the file\n",
    "\n",
    "\n",
    "with open(\"/home/bigdata/fcshome/CS2545/HandsOn2/oscar_winners.json\", \"r\") as file: \n",
    "    data = json.load(file)\n",
    "# print(data)\n",
    "\n",
    "    \n",
    "# Q1.1\n",
    "print(\"Movies since 2000:\\n\")\n",
    "for movie in data:\n",
    "    if movie[\"oscar\"] > 1999:\n",
    "        print(movie[\"name\"], movie[\"oscar\"])    \n",
    "           \n",
    "        \n",
    "\n",
    "# Q1.2\n",
    "print(\"\\n\\nComedies:\\n\")\n",
    "for movie in data:\n",
    "    if movie[\"genre\"].find(\"Comedy\") != -1:\n",
    "        print(movie[\"name\"], movie[\"oscar\"])    \n",
    "    \n",
    "\n",
    "# Q1.3\n",
    "curDur = 0\n",
    "LongestDurName = \"\"\n",
    "LongestDuration = \"\"\n",
    "\n",
    "for movie in data:\n",
    "    if int(movie[\"duration\"][:3]) > curDur:\n",
    "        curDur = int(movie[\"duration\"][:3]) #the first three characters of the duration string cast to int\n",
    "        LongestDurName = movie[\"name\"]\n",
    "        LongestDuration = movie[\"duration\"]\n",
    "    \n",
    "print(\"\\n\\nLongest running movie:\\n\")\n",
    "print(LongestDurName, LongestDuration)\n",
    "    "
   ]
  },
  {
   "cell_type": "markdown",
   "id": "dce4fcc3",
   "metadata": {},
   "source": [
    "**Q2.**  Create a 6X6 NumPy array, *mat*, with random numbers. Print the element at 3th row and 4th column."
   ]
  },
  {
   "cell_type": "code",
   "execution_count": 16,
   "id": "e5687ed2",
   "metadata": {},
   "outputs": [
    {
     "name": "stdout",
     "output_type": "stream",
     "text": [
      "[[61 79 61 57 53 17]\n",
      " [23 66 75 98 71  8]\n",
      " [16 11 55 86 48 81]\n",
      " [56 42 95 74 29 29]\n",
      " [ 5 72 77  0  4 64]\n",
      " [80 46 44 93 34 32]]\n",
      "86\n"
     ]
    }
   ],
   "source": [
    "import numpy as np\n",
    "import random\n",
    "\n",
    "np.random.seed(987654)\n",
    "\n",
    "# your code - start\n",
    "mat = np.random.randint(0,100, size=(6,6))\n",
    "# your code - end\n",
    "\n",
    "# uncomment this line \n",
    "print(mat)\n",
    "print(mat[2,3]) #starts at zero mat[row, col]\n",
    "\n"
   ]
  },
  {
   "cell_type": "markdown",
   "id": "8a9bfd9a",
   "metadata": {},
   "source": [
    "**Q3.1** The list *HeartRateObservations* contains some observations of heart rate (beats per minute) for a patient. Write a function *findOutliers(lst)* that takes a list of values as an input parameter, and  identifies and print those values in the list that are lower than 60 or higher than 100. Then invoke the function with *HeartRateObservations* as the input.\n",
    "\n",
    "Note, heart rates between 60 and 100 are considered normal.\n",
    "\n",
    "\n",
    "**Q3.2** Create a Pandas data series  *dser* from the list *HeartRateObservations*. Then, using a NumPy function find the median heart rate observations.\n"
   ]
  },
  {
   "cell_type": "code",
   "execution_count": 25,
   "id": "fbaa6251",
   "metadata": {
    "scrolled": true
   },
   "outputs": [
    {
     "name": "stdout",
     "output_type": "stream",
     "text": [
      "\n",
      "Outliers:\n",
      "\n",
      "59\n",
      "53\n",
      "55\n",
      "57\n",
      "57\n",
      "57\n",
      "59\n",
      "102\n",
      "101\n",
      "104\n",
      "56\n",
      "\n",
      "\n",
      "average:\n",
      "\n",
      "73.70588235294117\n"
     ]
    }
   ],
   "source": [
    "import pandas as pd\n",
    "import numpy as np\n",
    "\n",
    "HeartRateObservations = [73, 71, 59, 76, 80, 73, 75, 82, 64, 69, 70, 68, 72, 78, 70, 75, 74, 69, 73, 77, 53, 73, 65, 74, 76, 72, 78, 71, 74, 67, 64, 78, 73, 67, 66, 64, 71, 72, 86, 55, 68, 70, 79, 84, 68, 71, 77, 78, 83, 66, 70, 82, 73, 78, 78, 81, 78, 80, 75, 79, 81, 71, 83, 63, 70, 75, 69, 62, 75, 66, 68, 57, 61, 84, 61, 77, 62, 57, 68, 69, 79, 76, 87, 78, 73, 89, 81, 73, 64, 65, 73, 69, 57, 79, 78, 80, 79, 81, 73, 74, 84, 83, 82, 85, 86, 77, 72, 79, 59, 64, 65, 82, 64, 70, 83, 79, 69, 73, 84, 76, 79, 81, 80, 74, 102, 101, 104, 77, 66, 68, 77, 79, 78, 73, 56, 61]\n",
    "\n",
    "# write your code below\n",
    "\n",
    "\n",
    "# Q3.1\n",
    "print(\"\\nOutliers:\\n\")\n",
    "def findOutliers(lst): \n",
    "    for val in lst: \n",
    "        if val < 60 or val > 100:\n",
    "            print(val)\n",
    "            \n",
    "findOutliers(HeartRateObservations)\n",
    "\n",
    "# Q3.2\n",
    "print(\"\\n\\nAverage:\\n\")\n",
    "dser = pd.Series(data = HeartRateObservations)\n",
    "print(np.average(dser))\n",
    "\n",
    "\n",
    "\n",
    "\n",
    "\n"
   ]
  },
  {
   "cell_type": "code",
   "execution_count": null,
   "id": "2997db8f",
   "metadata": {},
   "outputs": [],
   "source": []
  }
 ],
 "metadata": {
  "kernelspec": {
   "display_name": "Python 3",
   "language": "python",
   "name": "python3"
  },
  "language_info": {
   "codemirror_mode": {
    "name": "ipython",
    "version": 3
   },
   "file_extension": ".py",
   "mimetype": "text/x-python",
   "name": "python",
   "nbconvert_exporter": "python",
   "pygments_lexer": "ipython3",
   "version": "3.8.8"
  }
 },
 "nbformat": 4,
 "nbformat_minor": 5
}
